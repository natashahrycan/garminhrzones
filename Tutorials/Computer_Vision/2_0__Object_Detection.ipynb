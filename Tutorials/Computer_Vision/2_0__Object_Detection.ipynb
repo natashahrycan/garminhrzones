{
  "nbformat": 4,
  "nbformat_minor": 0,
  "metadata": {
    "colab": {
      "provenance": [],
      "authorship_tag": "ABX9TyMi9apAbPxe/gbmvSGQh0lZ",
      "include_colab_link": true
    },
    "kernelspec": {
      "name": "python3",
      "display_name": "Python 3"
    },
    "language_info": {
      "name": "python"
    }
  },
  "cells": [
    {
      "cell_type": "markdown",
      "metadata": {
        "id": "view-in-github",
        "colab_type": "text"
      },
      "source": [
        "<a href=\"https://colab.research.google.com/github/natashahrycan/garminhrzones/blob/main/Tutorials/Computer_Vision/2_0__Object_Detection.ipynb\" target=\"_parent\"><img src=\"https://colab.research.google.com/assets/colab-badge.svg\" alt=\"Open In Colab\"/></a>"
      ]
    },
    {
      "cell_type": "markdown",
      "source": [
        "# Object Detection\n",
        "\n",
        "This tutorial will introduce you to some concepts you need to know to understand how good (or bad) and object detection model is detecting objects.\n",
        "\n",
        "## What will you learn in this lesson?\n",
        "1. How to connect a camera to a Raspberry Pi.\n",
        "2. Use a pre-trained model to perform object detection.\n",
        "3. Visualize the detections (and what are bounding boxes).\n",
        "4. Analyze how good (or bad) is your model with metrics (IoU, precision and recall -> Rafael Padilla tutorial: https://github.com/rafaelpadilla/Object-Detection-Metrics)."
      ],
      "metadata": {
        "id": "VMThysV-qChJ"
      }
    },
    {
      "cell_type": "markdown",
      "source": [
        "## 1. How to connect a camera to a Raspberry Pi?\n",
        "Quite easy, my friend. Grab your camera, your Raspberry Pi and follow [this tutorial on how to install a camera on a Raspberry Pi](https://www.youtube.com/watch?v=GtNkFnTPhyo). If you need more information, you can always visit the [official website of Raspberry Pi](https://www.raspberrypi.com/documentation/computers/camera_software.html).\n",
        "\n",
        "Here are some commands used in the video:\n",
        "```\n",
        "$ libcamera-hello-t0                     # to see the camera preview\n",
        "$ libcamera-still -o test.jpg            # to capture a picture and name it test.jpg\n",
        "$ libcamera-vid -t 10000 -o video.h264   # to record a 10 second h264 video\n",
        "```"
      ],
      "metadata": {
        "id": "OegblT7UqRUZ"
      }
    },
    {
      "cell_type": "code",
      "source": [],
      "metadata": {
        "id": "5vbDa9q1sfzw"
      },
      "execution_count": null,
      "outputs": []
    }
  ]
}